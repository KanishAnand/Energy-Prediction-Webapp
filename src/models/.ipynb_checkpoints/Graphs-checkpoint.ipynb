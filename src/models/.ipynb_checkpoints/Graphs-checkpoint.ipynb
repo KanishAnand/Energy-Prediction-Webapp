{
 "cells": [
  {
   "cell_type": "code",
   "execution_count": 1,
   "metadata": {},
   "outputs": [],
   "source": [
    "import pickle\n",
    "import datetime\n",
    "import requests\n",
    "import numpy as np\n",
    "import pandas as pd\n",
    "import matplotlib.pyplot as plt\n",
    "from IPython.display import clear_output"
   ]
  },
  {
   "cell_type": "code",
   "execution_count": 2,
   "metadata": {},
   "outputs": [],
   "source": [
    "with open('model.pkl', 'rb') as f:\n",
    "    model = pickle.load(f)"
   ]
  },
  {
   "cell_type": "code",
   "execution_count": 3,
   "metadata": {},
   "outputs": [],
   "source": [
    "temp_store = {}"
   ]
  },
  {
   "cell_type": "markdown",
   "metadata": {},
   "source": [
    "## API call to store temperature"
   ]
  },
  {
   "cell_type": "code",
   "execution_count": 4,
   "metadata": {
    "scrolled": true
   },
   "outputs": [
    {
     "name": "stdout",
     "output_type": "stream",
     "text": [
      "2020-04-16 12:00:00 96.64\n",
      "\n",
      "\n",
      "2020-04-16 15:00:00 91.2\n",
      "\n",
      "\n",
      "2020-04-16 18:00:00 85.55\n",
      "\n",
      "\n",
      "2020-04-16 21:00:00 83.05\n",
      "\n",
      "\n",
      "2020-04-17 00:00:00 80.4\n",
      "\n",
      "\n",
      "2020-04-17 03:00:00 91.78\n",
      "\n",
      "\n",
      "2020-04-17 06:00:00 100.87\n",
      "\n",
      "\n",
      "2020-04-17 09:00:00 103.41\n",
      "\n",
      "\n",
      "2020-04-17 12:00:00 100.72\n",
      "\n",
      "\n",
      "2020-04-17 15:00:00 94.6\n",
      "\n",
      "\n",
      "2020-04-17 18:00:00 88.32\n",
      "\n",
      "\n",
      "2020-04-17 21:00:00 82.27\n",
      "\n",
      "\n",
      "2020-04-18 00:00:00 80.85\n",
      "\n",
      "\n",
      "2020-04-18 03:00:00 91.98\n",
      "\n",
      "\n",
      "2020-04-18 06:00:00 101.55\n",
      "\n",
      "\n",
      "2020-04-18 09:00:00 102.02\n",
      "\n",
      "\n",
      "2020-04-18 12:00:00 100.47\n",
      "\n",
      "\n",
      "2020-04-18 15:00:00 93.2\n",
      "\n",
      "\n",
      "2020-04-18 18:00:00 85.91\n",
      "\n",
      "\n",
      "2020-04-18 21:00:00 79.56\n",
      "\n",
      "\n",
      "2020-04-19 00:00:00 79.45\n",
      "\n",
      "\n",
      "2020-04-19 03:00:00 91.33\n",
      "\n",
      "\n",
      "2020-04-19 06:00:00 101.05\n",
      "\n",
      "\n",
      "2020-04-19 09:00:00 103.05\n",
      "\n",
      "\n",
      "2020-04-19 12:00:00 98.1\n",
      "\n",
      "\n",
      "2020-04-19 15:00:00 91.9\n",
      "\n",
      "\n",
      "2020-04-19 18:00:00 84.72\n",
      "\n",
      "\n",
      "2020-04-19 21:00:00 83.57\n",
      "\n",
      "\n",
      "2020-04-20 00:00:00 79.63\n",
      "\n",
      "\n",
      "2020-04-20 03:00:00 88.02\n",
      "\n",
      "\n",
      "2020-04-20 06:00:00 100.17\n",
      "\n",
      "\n",
      "2020-04-20 09:00:00 96.21\n",
      "\n",
      "\n",
      "2020-04-20 12:00:00 92.84\n",
      "\n",
      "\n",
      "2020-04-20 15:00:00 89.92\n",
      "\n",
      "\n",
      "2020-04-20 18:00:00 82.38\n",
      "\n",
      "\n",
      "2020-04-20 21:00:00 77.23\n",
      "\n",
      "\n",
      "2020-04-21 00:00:00 76.33\n",
      "\n",
      "\n",
      "2020-04-21 03:00:00 81.32\n",
      "\n",
      "\n",
      "2020-04-21 06:00:00 93.38\n",
      "\n",
      "\n",
      "2020-04-21 09:00:00 100.9\n",
      "\n",
      "\n"
     ]
    }
   ],
   "source": [
    "sum = 0\n",
    "cnt = 0\n",
    "secSteps = 3600\n",
    "URL = \"http://api.openweathermap.org/data/2.5/forecast?id=1269843&appid=95e286bae5647877dbb924f3779736a8&units=imperial\"\n",
    "r = requests.get(url=URL)\n",
    "data = r.json()\n",
    "for ind in range(len(data['list'])):\n",
    "    dt = data['list'][ind]['dt_txt']\n",
    "    temp = data['list'][ind]['main']['temp']\n",
    "    print(dt,temp)\n",
    "    print('\\n')\n",
    "    sum += temp*3\n",
    "    cnt += 3\n",
    "    temp_store[dt] = temp\n",
    "    dt = datetime.datetime.strptime(dt,'%Y-%m-%d %H:%M:%S')\n",
    "    dt += datetime.timedelta(seconds=secSteps)\n",
    "    temp_store[str(dt)] = temp\n",
    "    dt += datetime.timedelta(seconds=secSteps)\n",
    "    temp_store[str(dt)] = temp\n",
    "\n",
    "avg_temp = sum/cnt"
   ]
  },
  {
   "cell_type": "code",
   "execution_count": 5,
   "metadata": {},
   "outputs": [
    {
     "name": "stdout",
     "output_type": "stream",
     "text": [
      "90.64625\n"
     ]
    }
   ],
   "source": [
    "print(avg_temp)"
   ]
  },
  {
   "cell_type": "code",
   "execution_count": 6,
   "metadata": {},
   "outputs": [],
   "source": [
    "def predict(data):\n",
    "    test = pd.DataFrame([data], columns = ['ds']) \n",
    "    try:\n",
    "        test['temp'] = temp_store[str(data)]\n",
    "    except:\n",
    "        test['temp'] = avg_temp\n",
    "    val = model.predict(test)\n",
    "    return np.exp(val['yhat'])"
   ]
  },
  {
   "cell_type": "code",
   "execution_count": 7,
   "metadata": {},
   "outputs": [],
   "source": [
    "def plot():\n",
    "    clear_output(wait=True)\n",
    "    plt.figure(figsize=(12,5))\n",
    "    plt.plot(x, y) \n",
    "    plt.xlabel('DateTime') \n",
    "    plt.ylabel('Predicted Value') \n",
    "    plt.title('Prediction over a time period') \n",
    "    plt.show() "
   ]
  },
  {
   "cell_type": "code",
   "execution_count": 8,
   "metadata": {},
   "outputs": [],
   "source": [
    "x = []\n",
    "y = []"
   ]
  },
  {
   "cell_type": "code",
   "execution_count": 9,
   "metadata": {},
   "outputs": [
    {
     "data": {
      "image/png": "[encoded data removed]",
      "text/plain": [
       "<Figure size 864x360 with 1 Axes>"
      ]
     },
     "metadata": {
      "needs_background": "light"
     },
     "output_type": "display_data"
    },
    {
     "name": "stdout",
     "output_type": "stream",
     "text": [
      "2020-04-28 23:00:00 0    99.143988\n",
      "Name: yhat, dtype: float64\n"
     ]
    }
   ],
   "source": [
    "def runDay(date,secSteps):    \n",
    "    startDay = date.replace(hour= 0, minute= 0, second= 0)\n",
    "    endDay   = date.replace(hour=23, minute=59, second=59)\n",
    "    day = startDay\n",
    "    while day <= endDay:\n",
    "        x.append(day)\n",
    "        val = predict(day)\n",
    "        y.append(val)\n",
    "        plot()\n",
    "        print(day,val)\n",
    "        day += datetime.timedelta(seconds=secSteps)\n",
    "\n",
    "firstDate = datetime.datetime(2020,4,27,0,0,0)\n",
    "lastDate  = datetime.datetime(2020,4,28,0,0,0)\n",
    "daySteps  = 1\n",
    "secSteps = 3600\n",
    "\n",
    "date = firstDate\n",
    "while date <= lastDate:\n",
    "    NumberOfDay = date.timetuple()[7]\n",
    "    runDay(date,secSteps)\n",
    "    date += datetime.timedelta(days=daySteps)"
   ]
  }
 ],
 "metadata": {
  "kernelspec": {
   "display_name": "Python 3",
   "language": "python",
   "name": "python3"
  },
  "language_info": {
   "codemirror_mode": {
    "name": "ipython",
    "version": 3
   },
   "file_extension": ".py",
   "mimetype": "text/x-python",
   "name": "python",
   "nbconvert_exporter": "python",
   "pygments_lexer": "ipython3",
   "version": "3.6.9"
  }
 },
 "nbformat": 4,
 "nbformat_minor": 2
}
