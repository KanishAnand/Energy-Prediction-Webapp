{
 "cells": [
  {
   "cell_type": "markdown",
   "metadata": {},
   "source": [
    "# Import Libraries"
   ]
  },
  {
   "cell_type": "code",
   "execution_count": 2,
   "metadata": {},
   "outputs": [],
   "source": [
    "import pandas as pd\n",
    "import matplotlib.pyplot as plt"
   ]
  },
  {
   "cell_type": "markdown",
   "metadata": {},
   "source": [
    "# Path of Input Data Files"
   ]
  },
  {
   "cell_type": "code",
   "execution_count": 3,
   "metadata": {},
   "outputs": [],
   "source": [
    "inputfile1 = \"../data/Ramky_Chiller1.csv\"\n",
    "inputfile2 = \"../data/Ramky_Chiller2.csv\""
   ]
  },
  {
   "cell_type": "code",
   "execution_count": 4,
   "metadata": {
    "scrolled": true
   },
   "outputs": [],
   "source": [
    "data1 = pd.read_csv(inputfile1)"
   ]
  },
  {
   "cell_type": "code",
   "execution_count": 5,
   "metadata": {},
   "outputs": [],
   "source": [
    "data3 = data1"
   ]
  },
  {
   "cell_type": "code",
   "execution_count": 6,
   "metadata": {},
   "outputs": [],
   "source": [
    "data2 = pd.read_csv(inputfile2)"
   ]
  },
  {
   "cell_type": "code",
   "execution_count": 7,
   "metadata": {
    "scrolled": true
   },
   "outputs": [
    {
     "data": {
      "text/html": [
       "<div>\n",
       "<style scoped>\n",
       "    .dataframe tbody tr th:only-of-type {\n",
       "        vertical-align: middle;\n",
       "    }\n",
       "\n",
       "    .dataframe tbody tr th {\n",
       "        vertical-align: top;\n",
       "    }\n",
       "\n",
       "    .dataframe thead th {\n",
       "        text-align: right;\n",
       "    }\n",
       "</style>\n",
       "<table border=\"1\" class=\"dataframe\">\n",
       "  <thead>\n",
       "    <tr style=\"text-align: right;\">\n",
       "      <th></th>\n",
       "      <th>ProcessedStartDate</th>\n",
       "      <th>startvalue</th>\n",
       "      <th>ProcessedEndDate</th>\n",
       "      <th>endValue</th>\n",
       "      <th>hourdifference</th>\n",
       "    </tr>\n",
       "  </thead>\n",
       "  <tbody>\n",
       "    <tr>\n",
       "      <th>0</th>\n",
       "      <td>12/19/2018, 3:00:02 PM</td>\n",
       "      <td>6846108.6</td>\n",
       "      <td>12/19/2018, 4:00:02 PM</td>\n",
       "      <td>6846129.6</td>\n",
       "      <td>20.9</td>\n",
       "    </tr>\n",
       "    <tr>\n",
       "      <th>1</th>\n",
       "      <td>12/19/2018, 4:00:03 PM</td>\n",
       "      <td>6846129.6</td>\n",
       "      <td>12/19/2018, 5:00:03 PM</td>\n",
       "      <td>6846154.7</td>\n",
       "      <td>25.1</td>\n",
       "    </tr>\n",
       "    <tr>\n",
       "      <th>2</th>\n",
       "      <td>12/19/2018, 6:00:02 PM</td>\n",
       "      <td>6846179.3</td>\n",
       "      <td>12/19/2018, 7:00:02 PM</td>\n",
       "      <td>6846203.3</td>\n",
       "      <td>24.0</td>\n",
       "    </tr>\n",
       "    <tr>\n",
       "      <th>3</th>\n",
       "      <td>12/19/2018, 7:00:02 PM</td>\n",
       "      <td>6846203.9</td>\n",
       "      <td>12/19/2018, 8:00:02 PM</td>\n",
       "      <td>6846227.9</td>\n",
       "      <td>24.0</td>\n",
       "    </tr>\n",
       "    <tr>\n",
       "      <th>4</th>\n",
       "      <td>12/19/2018, 8:00:02 PM</td>\n",
       "      <td>6846228.4</td>\n",
       "      <td>12/19/2018, 9:00:02 PM</td>\n",
       "      <td>6846252.5</td>\n",
       "      <td>24.0</td>\n",
       "    </tr>\n",
       "  </tbody>\n",
       "</table>\n",
       "</div>"
      ],
      "text/plain": [
       "       ProcessedStartDate  startvalue        ProcessedEndDate   endValue  \\\n",
       "0  12/19/2018, 3:00:02 PM   6846108.6  12/19/2018, 4:00:02 PM  6846129.6   \n",
       "1  12/19/2018, 4:00:03 PM   6846129.6  12/19/2018, 5:00:03 PM  6846154.7   \n",
       "2  12/19/2018, 6:00:02 PM   6846179.3  12/19/2018, 7:00:02 PM  6846203.3   \n",
       "3  12/19/2018, 7:00:02 PM   6846203.9  12/19/2018, 8:00:02 PM  6846227.9   \n",
       "4  12/19/2018, 8:00:02 PM   6846228.4  12/19/2018, 9:00:02 PM  6846252.5   \n",
       "\n",
       "   hourdifference  \n",
       "0            20.9  \n",
       "1            25.1  \n",
       "2            24.0  \n",
       "3            24.0  \n",
       "4            24.0  "
      ]
     },
     "execution_count": 7,
     "metadata": {},
     "output_type": "execute_result"
    }
   ],
   "source": [
    "data1.head(5)"
   ]
  },
  {
   "cell_type": "code",
   "execution_count": 8,
   "metadata": {
    "scrolled": true
   },
   "outputs": [
    {
     "data": {
      "text/html": [
       "<div>\n",
       "<style scoped>\n",
       "    .dataframe tbody tr th:only-of-type {\n",
       "        vertical-align: middle;\n",
       "    }\n",
       "\n",
       "    .dataframe tbody tr th {\n",
       "        vertical-align: top;\n",
       "    }\n",
       "\n",
       "    .dataframe thead th {\n",
       "        text-align: right;\n",
       "    }\n",
       "</style>\n",
       "<table border=\"1\" class=\"dataframe\">\n",
       "  <thead>\n",
       "    <tr style=\"text-align: right;\">\n",
       "      <th></th>\n",
       "      <th>ProcessedStartDate</th>\n",
       "      <th>startvalue</th>\n",
       "      <th>ProcessedEndDate</th>\n",
       "      <th>endValue</th>\n",
       "      <th>hourdifference</th>\n",
       "    </tr>\n",
       "  </thead>\n",
       "  <tbody>\n",
       "    <tr>\n",
       "      <th>0</th>\n",
       "      <td>12/19/2018, 3:00:02 PM</td>\n",
       "      <td>212712.4</td>\n",
       "      <td>12/19/2018, 4:00:02 PM</td>\n",
       "      <td>212940.9</td>\n",
       "      <td>228.4</td>\n",
       "    </tr>\n",
       "    <tr>\n",
       "      <th>1</th>\n",
       "      <td>12/19/2018, 4:00:03 PM</td>\n",
       "      <td>212944.7</td>\n",
       "      <td>12/19/2018, 5:00:03 PM</td>\n",
       "      <td>213213.9</td>\n",
       "      <td>269.3</td>\n",
       "    </tr>\n",
       "    <tr>\n",
       "      <th>2</th>\n",
       "      <td>12/19/2018, 6:00:02 PM</td>\n",
       "      <td>213489.1</td>\n",
       "      <td>12/19/2018, 7:00:02 PM</td>\n",
       "      <td>213752.1</td>\n",
       "      <td>263.1</td>\n",
       "    </tr>\n",
       "    <tr>\n",
       "      <th>3</th>\n",
       "      <td>12/19/2018, 7:00:02 PM</td>\n",
       "      <td>213755.9</td>\n",
       "      <td>12/19/2018, 8:00:02 PM</td>\n",
       "      <td>214017.2</td>\n",
       "      <td>261.4</td>\n",
       "    </tr>\n",
       "    <tr>\n",
       "      <th>4</th>\n",
       "      <td>12/19/2018, 8:00:02 PM</td>\n",
       "      <td>214020.9</td>\n",
       "      <td>12/19/2018, 9:00:02 PM</td>\n",
       "      <td>214224.5</td>\n",
       "      <td>203.7</td>\n",
       "    </tr>\n",
       "  </tbody>\n",
       "</table>\n",
       "</div>"
      ],
      "text/plain": [
       "       ProcessedStartDate  startvalue        ProcessedEndDate  endValue  \\\n",
       "0  12/19/2018, 3:00:02 PM    212712.4  12/19/2018, 4:00:02 PM  212940.9   \n",
       "1  12/19/2018, 4:00:03 PM    212944.7  12/19/2018, 5:00:03 PM  213213.9   \n",
       "2  12/19/2018, 6:00:02 PM    213489.1  12/19/2018, 7:00:02 PM  213752.1   \n",
       "3  12/19/2018, 7:00:02 PM    213755.9  12/19/2018, 8:00:02 PM  214017.2   \n",
       "4  12/19/2018, 8:00:02 PM    214020.9  12/19/2018, 9:00:02 PM  214224.5   \n",
       "\n",
       "   hourdifference  \n",
       "0           228.4  \n",
       "1           269.3  \n",
       "2           263.1  \n",
       "3           261.4  \n",
       "4           203.7  "
      ]
     },
     "execution_count": 8,
     "metadata": {},
     "output_type": "execute_result"
    }
   ],
   "source": [
    "data2.head(5)"
   ]
  },
  {
   "cell_type": "markdown",
   "metadata": {},
   "source": [
    "## Plotting data to see ambiguity in data"
   ]
  },
  {
   "cell_type": "code",
   "execution_count": 24,
   "metadata": {},
   "outputs": [
    {
     "data": {
      "text/plain": [
       "hourdifference    7246\n",
       "dtype: int64"
      ]
     },
     "execution_count": 24,
     "metadata": {},
     "output_type": "execute_result"
    }
   ],
   "source": [
    "data1[['hourdifference']].idxmin()"
   ]
  },
  {
   "cell_type": "code",
   "execution_count": 25,
   "metadata": {},
   "outputs": [
    {
     "data": {
      "text/plain": [
       "hourdifference    7482\n",
       "dtype: int64"
      ]
     },
     "execution_count": 25,
     "metadata": {},
     "output_type": "execute_result"
    }
   ],
   "source": [
    "data2[['hourdifference']].idxmin()"
   ]
  },
  {
   "cell_type": "code",
   "execution_count": 11,
   "metadata": {
    "scrolled": true
   },
   "outputs": [
    {
     "data": {
      "text/plain": [
       "<matplotlib.axes._subplots.AxesSubplot at 0x7fd65d103518>"
      ]
     },
     "execution_count": 11,
     "metadata": {},
     "output_type": "execute_result"
    },
    {
     "data": {
      "image/png": "[encoded data removed]",
      "text/plain": [
       "<Figure size 432x288 with 1 Axes>"
      ]
     },
     "metadata": {
      "needs_background": "light"
     },
     "output_type": "display_data"
    }
   ],
   "source": [
    "data1.plot(x='ProcessedStartDate',y='hourdifference')"
   ]
  },
  {
   "cell_type": "code",
   "execution_count": 12,
   "metadata": {},
   "outputs": [
    {
     "data": {
      "text/plain": [
       "<matplotlib.axes._subplots.AxesSubplot at 0x7fd65cc4ac50>"
      ]
     },
     "execution_count": 12,
     "metadata": {},
     "output_type": "execute_result"
    },
    {
     "data": {
      "image/png": "[encoded data removed]",
      "text/plain": [
       "<Figure size 432x288 with 1 Axes>"
      ]
     },
     "metadata": {
      "needs_background": "light"
     },
     "output_type": "display_data"
    }
   ],
   "source": [
    "data2.plot(x='ProcessedStartDate',y='hourdifference')"
   ]
  },
  {
   "cell_type": "markdown",
   "metadata": {},
   "source": []
  },
  {
   "cell_type": "code",
   "execution_count": 8,
   "metadata": {},
   "outputs": [],
   "source": [
    "data3['hourdifference'] = data1['hourdifference'] + data2['hourdifference']"
   ]
  },
  {
   "cell_type": "code",
   "execution_count": 9,
   "metadata": {},
   "outputs": [
    {
     "data": {
      "text/html": [
       "<div>\n",
       "<style scoped>\n",
       "    .dataframe tbody tr th:only-of-type {\n",
       "        vertical-align: middle;\n",
       "    }\n",
       "\n",
       "    .dataframe tbody tr th {\n",
       "        vertical-align: top;\n",
       "    }\n",
       "\n",
       "    .dataframe thead th {\n",
       "        text-align: right;\n",
       "    }\n",
       "</style>\n",
       "<table border=\"1\" class=\"dataframe\">\n",
       "  <thead>\n",
       "    <tr style=\"text-align: right;\">\n",
       "      <th></th>\n",
       "      <th>ProcessedStartDate</th>\n",
       "      <th>startvalue</th>\n",
       "      <th>ProcessedEndDate</th>\n",
       "      <th>endValue</th>\n",
       "      <th>hourdifference</th>\n",
       "    </tr>\n",
       "  </thead>\n",
       "  <tbody>\n",
       "    <tr>\n",
       "      <th>0</th>\n",
       "      <td>12/19/2018, 3:00:02 PM</td>\n",
       "      <td>6846108.6</td>\n",
       "      <td>12/19/2018, 4:00:02 PM</td>\n",
       "      <td>6846129.6</td>\n",
       "      <td>249.3</td>\n",
       "    </tr>\n",
       "    <tr>\n",
       "      <th>1</th>\n",
       "      <td>12/19/2018, 4:00:03 PM</td>\n",
       "      <td>6846129.6</td>\n",
       "      <td>12/19/2018, 5:00:03 PM</td>\n",
       "      <td>6846154.7</td>\n",
       "      <td>294.4</td>\n",
       "    </tr>\n",
       "    <tr>\n",
       "      <th>2</th>\n",
       "      <td>12/19/2018, 6:00:02 PM</td>\n",
       "      <td>6846179.3</td>\n",
       "      <td>12/19/2018, 7:00:02 PM</td>\n",
       "      <td>6846203.3</td>\n",
       "      <td>287.1</td>\n",
       "    </tr>\n",
       "    <tr>\n",
       "      <th>3</th>\n",
       "      <td>12/19/2018, 7:00:02 PM</td>\n",
       "      <td>6846203.9</td>\n",
       "      <td>12/19/2018, 8:00:02 PM</td>\n",
       "      <td>6846227.9</td>\n",
       "      <td>285.4</td>\n",
       "    </tr>\n",
       "    <tr>\n",
       "      <th>4</th>\n",
       "      <td>12/19/2018, 8:00:02 PM</td>\n",
       "      <td>6846228.4</td>\n",
       "      <td>12/19/2018, 9:00:02 PM</td>\n",
       "      <td>6846252.5</td>\n",
       "      <td>227.7</td>\n",
       "    </tr>\n",
       "  </tbody>\n",
       "</table>\n",
       "</div>"
      ],
      "text/plain": [
       "       ProcessedStartDate  startvalue        ProcessedEndDate   endValue  \\\n",
       "0  12/19/2018, 3:00:02 PM   6846108.6  12/19/2018, 4:00:02 PM  6846129.6   \n",
       "1  12/19/2018, 4:00:03 PM   6846129.6  12/19/2018, 5:00:03 PM  6846154.7   \n",
       "2  12/19/2018, 6:00:02 PM   6846179.3  12/19/2018, 7:00:02 PM  6846203.3   \n",
       "3  12/19/2018, 7:00:02 PM   6846203.9  12/19/2018, 8:00:02 PM  6846227.9   \n",
       "4  12/19/2018, 8:00:02 PM   6846228.4  12/19/2018, 9:00:02 PM  6846252.5   \n",
       "\n",
       "   hourdifference  \n",
       "0           249.3  \n",
       "1           294.4  \n",
       "2           287.1  \n",
       "3           285.4  \n",
       "4           227.7  "
      ]
     },
     "execution_count": 9,
     "metadata": {},
     "output_type": "execute_result"
    }
   ],
   "source": [
    "data3.head(5)"
   ]
  },
  {
   "cell_type": "code",
   "execution_count": 10,
   "metadata": {
    "scrolled": true
   },
   "outputs": [],
   "source": [
    "data3 = data3.rename(columns = {'ProcessedStartDate':'datetime','hourdifference':'consumption'})"
   ]
  },
  {
   "cell_type": "markdown",
   "metadata": {},
   "source": [
    "#### Replaced Missing values with 0 because at that time chiller was off."
   ]
  },
  {
   "cell_type": "code",
   "execution_count": 11,
   "metadata": {},
   "outputs": [],
   "source": [
    "data3['consumption'].fillna(0,inplace=True)"
   ]
  },
  {
   "cell_type": "markdown",
   "metadata": {},
   "source": [
    "#### Rounded Energy consumption values for ease in model training"
   ]
  },
  {
   "cell_type": "code",
   "execution_count": 12,
   "metadata": {},
   "outputs": [],
   "source": [
    "data3.consumption = data3.consumption.round()"
   ]
  },
  {
   "cell_type": "markdown",
   "metadata": {},
   "source": [
    "### Save new dataframe as csv file"
   ]
  },
  {
   "cell_type": "code",
   "execution_count": 13,
   "metadata": {},
   "outputs": [],
   "source": [
    "headers = ['datetime','consumption']"
   ]
  },
  {
   "cell_type": "code",
   "execution_count": 14,
   "metadata": {},
   "outputs": [],
   "source": [
    "data3.to_csv('../data/data.csv',columns = headers,index=False)"
   ]
  }
 ],
 "metadata": {
  "kernelspec": {
   "display_name": "Python 3",
   "language": "python",
   "name": "python3"
  },
  "language_info": {
   "codemirror_mode": {
    "name": "ipython",
    "version": 3
   },
   "file_extension": ".py",
   "mimetype": "text/x-python",
   "name": "python",
   "nbconvert_exporter": "python",
   "pygments_lexer": "ipython3",
   "version": "3.6.9"
  }
 },
 "nbformat": 4,
 "nbformat_minor": 2
}
